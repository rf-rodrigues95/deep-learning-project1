{
 "cells": [
  {
   "cell_type": "code",
   "execution_count": 1,
   "id": "f239a38b-8854-41ca-abe9-a0668f451e13",
   "metadata": {},
   "outputs": [],
   "source": [
    "import pandas as pd\n",
    "from sklearn.preprocessing import LabelEncoder\n",
    "from torch.utils.data import Dataset\n",
    "import os\n",
    "from PIL import Image\n",
    "import numpy as np"
   ]
  },
  {
   "cell_type": "code",
   "execution_count": 2,
   "id": "b78914c6-7ff0-4384-830d-f32f5ce6164f",
   "metadata": {},
   "outputs": [],
   "source": [
    "# Load data and labels\n",
    "labels = pd.read_csv(\"./data/train_labels.csv\")\n",
    "image_folder = \"./data/Train/\"\n",
    "label_encoder = LabelEncoder()\n",
    "labels[\"label\"] = label_encoder.fit_transform(labels[\"label\"])"
   ]
  },
  {
   "cell_type": "code",
   "execution_count": 3,
   "id": "8c93d785-b1c6-4f0c-b981-d3c696856ffc",
   "metadata": {},
   "outputs": [],
   "source": [
    "def crop_pokemon(img_path):\n",
    "    img = Image.open(img_path)\n",
    "    gray_img = img.convert(\"L\") # Convert to grayscale\n",
    "    img_array = np.array(gray_img)\n",
    "\n",
    "    # Detect black silhouette (thresholding)\n",
    "    threshold = 10  # Adjust this value if needed\n",
    "    mask = img_array < threshold\n",
    "\n",
    "    # Get coordinates of silhouette (bounding box)\n",
    "    coords = np.column_stack(np.where(mask))\n",
    "    if coords.shape[0] == 0:\n",
    "        return img.resize((64, 64))  # If no silhouette found, return resized image\n",
    "\n",
    "    y_min, x_min = coords.min(axis=0)\n",
    "    y_max, x_max = coords.max(axis=0)\n",
    "\n",
    "    # Apply padding (5%)\n",
    "    pad = int(0.05 * min(x_max - x_min, y_max - y_min))\n",
    "    x_min, y_min = max(0, x_min - pad), max(0, y_min - pad)\n",
    "    x_max, y_max = min(img.width, x_max + pad), min(img.height, y_max + pad)\n",
    "\n",
    "    cropped_img = img.crop((x_min, y_min, x_max, y_max))\n",
    "    cropped_img = cropped_img.resize((64, 64))\n",
    "\n",
    "    return cropped_img"
   ]
  },
  {
   "cell_type": "code",
   "execution_count": 9,
   "id": "e5f097c9-e692-4c03-a39b-e065d8db7449",
   "metadata": {},
   "outputs": [],
   "source": [
    "class PokemonDataset(Dataset):\n",
    "    def __init__(self, df, img_dir, transform=None):\n",
    "        self.df = df\n",
    "        self.img_dir = img_dir\n",
    "        self.transform = transform\n",
    "\n",
    "    def __len__(self):\n",
    "        return len(self.df)\n",
    "\n",
    "    def __getitem__(self, idx):\n",
    "        img_name = os.path.join(self.img_dir, str(self.df.iloc[idx, 0]) + \".png\")\n",
    "\n",
    "        #image = crop_pokemon(img_name)\n",
    "        image = Image.open(img_name)\n",
    "        \n",
    "        if self.transform:\n",
    "            image = self.transform(image)\n",
    "        \n",
    "        if len(self.df.columns) > 1:  # Train Set has labels, Test does not.\n",
    "            label = self.df.iloc[idx, 1]\n",
    "            name = str(self.df.iloc[idx, 0]) + \".png\"\n",
    "            return image, label, name\n",
    "        else:  \n",
    "            return image, -1, name  # X dont care for Test"
   ]
  },
  {
   "cell_type": "code",
   "execution_count": 10,
   "id": "79d5a795",
   "metadata": {},
   "outputs": [],
   "source": [
    "dataset = PokemonDataset(labels, image_folder)"
   ]
  },
  {
   "cell_type": "code",
   "execution_count": null,
   "id": "8e08d4e7",
   "metadata": {},
   "outputs": [],
   "source": []
  },
  {
   "cell_type": "code",
   "execution_count": 13,
   "id": "53a00859",
   "metadata": {},
   "outputs": [],
   "source": [
    "gray_img = dataset[1][0].convert(\"L\")"
   ]
  },
  {
   "cell_type": "code",
   "execution_count": 14,
   "id": "6a603a3c",
   "metadata": {},
   "outputs": [
    {
     "data": {
      "image/jpeg": "[encoded data removed]",
      "image/png": "[encoded data removed]",
      "text/plain": [
       "<PIL.Image.Image image mode=L size=64x64>"
      ]
     },
     "execution_count": 14,
     "metadata": {},
     "output_type": "execute_result"
    }
   ],
   "source": [
    "gray_img"
   ]
  },
  {
   "cell_type": "code",
   "execution_count": 11,
   "id": "2f52df5f-83e4-4764-9954-690a3b5fe1df",
   "metadata": {},
   "outputs": [],
   "source": [
    "dataset = PokemonDataset(labels, image_folder)\n",
    "for i in range(len(dataset)):\n",
    "    dataset[i][0].save(os.path.join(\"data/TrainCropped\", dataset[i][2]))"
   ]
  },
  {
   "cell_type": "code",
   "execution_count": null,
   "id": "042f2c3d-b3bc-4503-8b5a-bef40fd9babb",
   "metadata": {},
   "outputs": [],
   "source": []
  }
 ],
 "metadata": {
  "kernelspec": {
   "display_name": "APenv",
   "language": "python",
   "name": "apenv"
  },
  "language_info": {
   "codemirror_mode": {
    "name": "ipython",
    "version": 3
   },
   "file_extension": ".py",
   "mimetype": "text/x-python",
   "name": "python",
   "nbconvert_exporter": "python",
   "pygments_lexer": "ipython3",
   "version": "3.12.3"
  }
 },
 "nbformat": 4,
 "nbformat_minor": 5
}
